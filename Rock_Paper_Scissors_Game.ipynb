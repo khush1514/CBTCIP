{
  "nbformat": 4,
  "nbformat_minor": 0,
  "metadata": {
    "colab": {
      "provenance": []
    },
    "kernelspec": {
      "name": "python3",
      "display_name": "Python 3"
    },
    "language_info": {
      "name": "python"
    }
  },
  "cells": [
    {
      "cell_type": "markdown",
      "source": [
        "#ROCK PAPER SCISSOR GAME\n",
        "\n",
        "Winning Rules as follows:\n",
        "\n",
        "Rock vs paper-> paper wins\n",
        "\n",
        "Rock vs scissor-> Rock wins\n",
        "\n",
        "paper vs scissor-> scissor wins."
      ],
      "metadata": {
        "id": "vzFWbA-jl4-6"
      }
    },
    {
      "cell_type": "code",
      "execution_count": null,
      "metadata": {
        "colab": {
          "base_uri": "https://localhost:8080/"
        },
        "id": "YVC__jh4k6kc",
        "outputId": "906e07ca-3c98-4498-eb15-f30510f51760"
      },
      "outputs": [
        {
          "output_type": "stream",
          "name": "stdout",
          "text": [
            "Welcome to Rock-Paper-Scissors!\n",
            "\n",
            "Player 1, make your choice (rock, paper, scissors):\n",
            "rock\n",
            "\n",
            "Player 2, make your choice (rock, paper, scissors):\n",
            "paper\n",
            "Player 1 choose rock, Player 2 choose paper. Player 2 wins!\n",
            "Do you want to play another round? (yes/no):\n",
            "yes\n",
            "\n",
            "Player 1, make your choice (rock, paper, scissors):\n",
            "scissors\n",
            "\n",
            "Player 2, make your choice (rock, paper, scissors):\n",
            "paper\n",
            "Player 1 choose scissors, Player 2 choose paper. Player 1 wins!\n",
            "Do you want to play another round? (yes/no):\n",
            "no\n",
            "Thanks for playing!\n"
          ]
        }
      ],
      "source": [
        "import random\n",
        "\n",
        "def get_winner(player1_choice, player2_choice):\n",
        "    if player1_choice == player2_choice:\n",
        "        return \"Draw\"\n",
        "    elif (player1_choice == \"rock\" and player2_choice == \"scissors\") or \\\n",
        "         (player1_choice == \"paper\" and player2_choice == \"rock\") or \\\n",
        "         (player1_choice == \"scissors\" and player2_choice == \"paper\"):\n",
        "        return \"Player 1\"\n",
        "    else:\n",
        "        return \"Player 2\"\n",
        "\n",
        "def rock_paper_scissors():\n",
        "    choices = [\"rock\", \"paper\", \"scissors\"]\n",
        "\n",
        "    print(\"Welcome to Rock-Paper-Scissors!\")\n",
        "\n",
        "    player1 = \"Player 1\"\n",
        "    player2 = \"Player 2\"\n",
        "\n",
        "    while True:\n",
        "        print(f\"\\n{player1}, make your choice (rock, paper, scissors):\")\n",
        "        player1_choice = input().strip().lower()\n",
        "        while player1_choice not in choices:\n",
        "            print(\"Invalid choice. Please choose rock, paper, or scissors:\")\n",
        "            player1_choice = input().strip().lower()\n",
        "\n",
        "        print(f\"\\n{player2}, make your choice (rock, paper, scissors):\")\n",
        "        player2_choice = input().strip().lower()\n",
        "        while player2_choice not in choices:\n",
        "            print(\"Invalid choice. Please choose rock, paper, or scissors:\")\n",
        "            player2_choice = input().strip().lower()\n",
        "\n",
        "        winner = get_winner(player1_choice, player2_choice)\n",
        "        if winner == \"Draw\":\n",
        "            print(f\"Both players choose {player1_choice}. It's a draw!\")\n",
        "        else:\n",
        "            print(f\"{player1} choose {player1_choice}, {player2} choose {player2_choice}. {winner} wins!\")\n",
        "\n",
        "        print(\"Do you want to play another round? (yes/no):\")\n",
        "        play_again = input().strip().lower()\n",
        "        if play_again != 'yes':\n",
        "            print(\"Thanks for playing!\")\n",
        "            break\n",
        "\n",
        "if __name__ == \"__main__\":\n",
        "    rock_paper_scissors()\n"
      ]
    }
  ]
}