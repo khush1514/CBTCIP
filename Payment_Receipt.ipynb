{
  "nbformat": 4,
  "nbformat_minor": 0,
  "metadata": {
    "colab": {
      "provenance": []
    },
    "kernelspec": {
      "name": "python3",
      "display_name": "Python 3"
    },
    "language_info": {
      "name": "python"
    }
  },
  "cells": [
    {
      "cell_type": "markdown",
      "source": [
        "#CREATING PAYMENT RECEIPT\n",
        "\n",
        "Creating payment receipts is a pretty common task, be it an e-commerce website or any local store for that matter.\n",
        "\n",
        "Here, you have to create our own transaction receipts just by using python. We would be using reportlab to generate the PDFs. Generally, it comes as a built-in package but sometimes it might not be present too. If it’s not present, then simply type the following in your terminal"
      ],
      "metadata": {
        "id": "Y-V4C9cbpIg5"
      }
    },
    {
      "cell_type": "code",
      "execution_count": 4,
      "metadata": {
        "colab": {
          "base_uri": "https://localhost:8080/"
        },
        "id": "uZiAWEovo5uT",
        "outputId": "d104db3c-9309-4136-8b01-815b99b6c5da"
      },
      "outputs": [
        {
          "output_type": "stream",
          "name": "stdout",
          "text": [
            "Requirement already satisfied: reportlab in /usr/local/lib/python3.10/dist-packages (4.2.2)\n",
            "Requirement already satisfied: pillow>=9.0.0 in /usr/local/lib/python3.10/dist-packages (from reportlab) (9.4.0)\n",
            "Requirement already satisfied: chardet in /usr/local/lib/python3.10/dist-packages (from reportlab) (5.2.0)\n"
          ]
        }
      ],
      "source": [
        "pip install reportlab"
      ]
    },
    {
      "cell_type": "code",
      "source": [
        "from reportlab.lib.pagesizes import letter\n",
        "from reportlab.pdfgen import canvas\n",
        "from datetime import datetime\n",
        "\n",
        "def create_receipt(transaction_id, customer_name, items, total_amount, payment_method, output_filename):\n",
        "    c = canvas.Canvas(output_filename, pagesize=letter)\n",
        "    width, height = letter\n",
        "\n",
        "    # Header\n",
        "    c.setFont(\"Helvetica-Bold\", 16)\n",
        "    c.drawString(200, 750, \"Payment Receipt\")\n",
        "\n",
        "    # Transaction Details\n",
        "    c.setFont(\"Helvetica\", 12)\n",
        "    c.drawString(50, 700, f\"Transaction ID: {transaction_id}\")\n",
        "    c.drawString(50, 680, f\"Date: {datetime.now().strftime('%Y-%m-%d %H:%M:%S')}\")\n",
        "    c.drawString(50, 660, f\"Customer Name: {customer_name}\")\n",
        "\n",
        "    # Items\n",
        "    c.drawString(50, 630, \"Items:\")\n",
        "    y = 610\n",
        "    for item, price in items.items():\n",
        "        c.drawString(70, y, f\"{item}: ${price:.2f}\")\n",
        "        y -= 20\n",
        "\n",
        "    # Total Amount\n",
        "    c.setFont(\"Helvetica-Bold\", 12)\n",
        "    c.drawString(50, y-10, f\"Total Amount: ${total_amount:.2f}\")\n",
        "\n",
        "    # Payment Method\n",
        "    c.setFont(\"Helvetica\", 12)\n",
        "    c.drawString(50, y-30, f\"Payment Method: {payment_method}\")\n",
        "\n",
        "    # Footer\n",
        "    c.drawString(200, y-60, \"Thank you for your purchase!\")\n",
        "\n",
        "    c.save()\n",
        "\n",
        "# Example usage\n",
        "transaction_id = \"2389532481\"\n",
        "customer_name = \"Khushbu Patil\"\n",
        "items = {\n",
        "    \"Item A\": 99.49,\n",
        "    \"Item B\": 78.89,\n",
        "    \"Item C\": 15.99\n",
        "}\n",
        "total_amount = sum(items.values())\n",
        "payment_method = \"Credit Card\"\n",
        "output_filename = \"receipt.pdf\"\n",
        "\n",
        "create_receipt(transaction_id, customer_name, items, total_amount, payment_method, output_filename)\n"
      ],
      "metadata": {
        "id": "-XPykrbIpNIA"
      },
      "execution_count": 6,
      "outputs": []
    }
  ]
}