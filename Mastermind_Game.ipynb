{
  "nbformat": 4,
  "nbformat_minor": 0,
  "metadata": {
    "colab": {
      "provenance": []
    },
    "kernelspec": {
      "name": "python3",
      "display_name": "Python 3"
    },
    "language_info": {
      "name": "python"
    }
  },
  "cells": [
    {
      "cell_type": "markdown",
      "source": [
        "#MASTERMIND GAME\n",
        "\n",
        "Two players play the game against each other; let’s assume Player 1 and Player 2.\n",
        "\n",
        "* Player 1 plays first by setting a multi-digit number.\n",
        "* Player 2 now tries his first attempt at guessing the number.\n",
        "* If Player 2 succeeds in his first attempt (despite odds which are highly\n",
        "  unlikely) he wins the game and is crowned Mastermind! If not, then Player 1 hints by revealing which digits or numbers Player 2 got correct.\n",
        "* The game continues till Player 2 eventually is able to guess the number\n",
        "  entirely.\n",
        "* Now, Player 2 gets to set the number and Player 1 plays the part of guessing\n",
        "  the number.\n",
        "* If Player 1 is able to guess the number within a lesser number of tries than\n",
        "  Player 2 took, then Player 1 wins the game and is crowned Mastermind.\n",
        "* If not, then Player 2 wins the game.\n",
        "\n",
        "\n"
      ],
      "metadata": {
        "id": "2IjRdL9rQWXs"
      }
    },
    {
      "cell_type": "code",
      "execution_count": 7,
      "metadata": {
        "colab": {
          "base_uri": "https://localhost:8080/"
        },
        "id": "pUIWfffCBV_W",
        "outputId": "addbe1ad-96c9-4268-f931-174090ed843e"
      },
      "outputs": [
        {
          "output_type": "stream",
          "name": "stdout",
          "text": [
            "Welcome to Mastermind!\n",
            "Player 1 goes first to set the number, and Player 2 will guess.\n",
            "Player 1, set your secret number:\n",
            "Enter a multi-digit number (e.g., 1234): 1478\n",
            "Player 2, make your guess:\n",
            "Enter your guess: 1258\n",
            "Hint: 2 correct digits in the right position and 0 correct digits in the wrong position.\n",
            "Player 2, make your guess:\n",
            "Enter your guess: 1478\n",
            "Correct! Player 2 guessed the number in 2 attempts.\n",
            "\n",
            "Now Player 2 sets the number, and Player 1 will guess.\n",
            "Player 2, set your secret number:\n",
            "Enter a multi-digit number (e.g., 1234): 1236\n",
            "Player 1, make your guess:\n",
            "Enter your guess: 1548\n",
            "Hint: 1 correct digits in the right position and 0 correct digits in the wrong position.\n",
            "Player 1, make your guess:\n",
            "Enter your guess: 1478\n",
            "Hint: 1 correct digits in the right position and 0 correct digits in the wrong position.\n",
            "Player 1, make your guess:\n",
            "Enter your guess: 1259\n",
            "Hint: 2 correct digits in the right position and 0 correct digits in the wrong position.\n",
            "Player 1, make your guess:\n",
            "Enter your guess: 1236\n",
            "Correct! Player 1 guessed the number in 4 attempts.\n",
            "\n",
            "Player 1 wins the game and is crowned Mastermind!\n"
          ]
        }
      ],
      "source": [
        "import random\n",
        "\n",
        "def get_hint(secret, guess):\n",
        "    correct_digits = sum(s == g for s, g in zip(secret, guess))\n",
        "    correct_numbers = sum(min(secret.count(x), guess.count(x)) for x in set(guess))\n",
        "    return correct_digits, correct_numbers - correct_digits\n",
        "\n",
        "def play_round(setter, guesser):\n",
        "    print(f\"{setter}, set your secret number:\")\n",
        "    secret = input(\"Enter a multi-digit number (e.g., 1234): \").strip()\n",
        "\n",
        "    attempts = 0\n",
        "    while True:\n",
        "        attempts += 1\n",
        "        print(f\"{guesser}, make your guess:\")\n",
        "        guess = input(\"Enter your guess: \").strip()\n",
        "\n",
        "        if guess == secret:\n",
        "            print(f\"Correct! {guesser} guessed the number in {attempts} attempts.\")\n",
        "            return attempts\n",
        "\n",
        "        correct_digits, correct_numbers = get_hint(secret, guess)\n",
        "        print(f\"Hint: {correct_digits} correct digits in the right position and {correct_numbers} correct digits in the wrong position.\")\n",
        "\n",
        "def mastermind_game():\n",
        "    print(\"Welcome to Mastermind!\")\n",
        "\n",
        "    player1 = \"Player 1\"\n",
        "    player2 = \"Player 2\"\n",
        "\n",
        "    print(f\"{player1} goes first to set the number, and {player2} will guess.\")\n",
        "    attempts1 = play_round(player1, player2)\n",
        "\n",
        "    print(f\"\\nNow {player2} sets the number, and {player1} will guess.\")\n",
        "    attempts2 = play_round(player2, player1)\n",
        "\n",
        "    if attempts1 < attempts2:\n",
        "        winner = player1\n",
        "    elif attempts2 < attempts1:\n",
        "        winner = player2\n",
        "    else:\n",
        "        winner = \"No one\"\n",
        "\n",
        "    print(f\"\\n{winner} wins the game and is crowned Mastermind!\")\n",
        "\n",
        "if __name__ == \"__main__\":\n",
        "    mastermind_game()\n"
      ]
    }
  ]
}